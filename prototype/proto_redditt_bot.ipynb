{
 "cells": [
  {
   "cell_type": "markdown",
   "id": "938ecc3c",
   "metadata": {},
   "source": [
    "Protype of botGuard.\n",
    "A reddit bot to scan recent posts and comments and identify those created by bots.\n",
    "This notebook is to prototype connections and concepts. FInal botGuard will be a\n",
    "native python app."
   ]
  },
  {
   "cell_type": "code",
   "execution_count": 1,
   "id": "7ee81852",
   "metadata": {},
   "outputs": [],
   "source": [
    "import praw\n",
    "import math\n",
    "import pandas\n"
   ]
  },
  {
   "cell_type": "code",
   "execution_count": 2,
   "id": "138d4bc2",
   "metadata": {},
   "outputs": [],
   "source": [
    "\n",
    "reddit = praw.Reddit(\n",
    "    client_id=\"gkSNE0LLQ0gezv67g2b3Ug\",\n",
    "    client_secret=\"z61tW7U8N3XPyxcu5txkVp8S4cMVpg\",\n",
    "    password=\"npb2key6ydn.VXY6wgw\",\n",
    "    user_agent=\"botGuard926@gmail.com u/botguard\",\n",
    "    username=\"botGuard\",\n",
    ")"
   ]
  },
  {
   "cell_type": "code",
   "execution_count": 4,
   "id": "7d3f4c40",
   "metadata": {},
   "outputs": [
    {
     "data": {
      "text/plain": [
       "Submission(id='1kpa1qf')"
      ]
     },
     "execution_count": 4,
     "metadata": {},
     "output_type": "execute_result"
    }
   ],
   "source": [
    "# Create a submission to r/test\n",
    "reddit.subreddit(\"test\").submit(\"bG submssion 1\", url=\"https://reddit.com\")\n",
    "\n"
   ]
  },
  {
   "cell_type": "code",
   "execution_count": 5,
   "id": "7d1d728c",
   "metadata": {},
   "outputs": [
    {
     "data": {
      "text/plain": [
       "Comment(id='msw9xb8')"
      ]
     },
     "execution_count": 5,
     "metadata": {},
     "output_type": "execute_result"
    }
   ],
   "source": [
    "# Comment on a known submission\n",
    "submission = reddit.submission(url=\"https://www.reddit.com/comments/1kpa1qf\")\n",
    "submission.reply(\"Super rad!\")\n",
    "\n"
   ]
  },
  {
   "cell_type": "code",
   "execution_count": null,
   "id": "4fc7e716",
   "metadata": {},
   "outputs": [],
   "source": [
    "# Reply to the first comment of a weekly top thread of a moderated community\n",
    "submission = next(reddit.subreddit(\"mod\").top(time_filter=\"week\"))\n",
    "submission.comments[0].reply(\"An automated reply\")\n",
    "\n"
   ]
  },
  {
   "cell_type": "code",
   "execution_count": 6,
   "id": "a9bf7ef4",
   "metadata": {},
   "outputs": [
    {
     "name": "stdout",
     "output_type": "stream",
     "text": [
      "11592\n",
      "2286\n",
      "489\n",
      "608\n",
      "296\n",
      "147\n",
      "289\n",
      "1570\n",
      "165\n",
      "356\n"
     ]
    }
   ],
   "source": [
    "# Output score for the first 10 items on the frontpage\n",
    "for submission in reddit.front.hot(limit=10):\n",
    "    print(submission.score)\n",
    "\n"
   ]
  },
  {
   "cell_type": "code",
   "execution_count": 7,
   "id": "0e05a5f8",
   "metadata": {},
   "outputs": [
    {
     "name": "stdout",
     "output_type": "stream",
     "text": [
      "PitchforkAssistant\n",
      "VeritablePornocopium\n",
      "justcool393\n",
      "Blank-Cheque\n",
      "JerryfromTomandJerry\n",
      "comment-nuke\n"
     ]
    }
   ],
   "source": [
    "# Obtain the moderator listing for r/test\n",
    "for moderator in reddit.subreddit(\"test\").moderator():\n",
    "    print(moderator)\n",
    "\n"
   ]
  }
 ],
 "metadata": {
  "kernelspec": {
   "display_name": "base",
   "language": "python",
   "name": "python3"
  },
  "language_info": {
   "codemirror_mode": {
    "name": "ipython",
    "version": 3
   },
   "file_extension": ".py",
   "mimetype": "text/x-python",
   "name": "python",
   "nbconvert_exporter": "python",
   "pygments_lexer": "ipython3",
   "version": "3.12.7"
  }
 },
 "nbformat": 4,
 "nbformat_minor": 5
}
